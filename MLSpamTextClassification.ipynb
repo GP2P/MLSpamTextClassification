{
 "cells": [
  {
   "cell_type": "code",
   "execution_count": 1,
   "metadata": {},
   "outputs": [
    {
     "data": {
      "text/html": [
       "<div>\n",
       "<style scoped>\n",
       "    .dataframe tbody tr th:only-of-type {\n",
       "        vertical-align: middle;\n",
       "    }\n",
       "\n",
       "    .dataframe tbody tr th {\n",
       "        vertical-align: top;\n",
       "    }\n",
       "\n",
       "    .dataframe thead th {\n",
       "        text-align: right;\n",
       "    }\n",
       "</style>\n",
       "<table border=\"1\" class=\"dataframe\">\n",
       "  <thead>\n",
       "    <tr style=\"text-align: right;\">\n",
       "      <th></th>\n",
       "      <th>Category</th>\n",
       "      <th>Message</th>\n",
       "    </tr>\n",
       "  </thead>\n",
       "  <tbody>\n",
       "    <tr>\n",
       "      <th>0</th>\n",
       "      <td>ham</td>\n",
       "      <td>Go until jurong point, crazy.. Available only ...</td>\n",
       "    </tr>\n",
       "    <tr>\n",
       "      <th>1</th>\n",
       "      <td>ham</td>\n",
       "      <td>Ok lar... Joking wif u oni...</td>\n",
       "    </tr>\n",
       "    <tr>\n",
       "      <th>2</th>\n",
       "      <td>spam</td>\n",
       "      <td>Free entry in 2 a wkly comp to win FA Cup fina...</td>\n",
       "    </tr>\n",
       "    <tr>\n",
       "      <th>3</th>\n",
       "      <td>ham</td>\n",
       "      <td>U dun say so early hor... U c already then say...</td>\n",
       "    </tr>\n",
       "    <tr>\n",
       "      <th>4</th>\n",
       "      <td>ham</td>\n",
       "      <td>Nah I don't think he goes to usf, he lives aro...</td>\n",
       "    </tr>\n",
       "  </tbody>\n",
       "</table>\n",
       "</div>"
      ],
      "text/plain": [
       "  Category                                            Message\n",
       "0      ham  Go until jurong point, crazy.. Available only ...\n",
       "1      ham                      Ok lar... Joking wif u oni...\n",
       "2     spam  Free entry in 2 a wkly comp to win FA Cup fina...\n",
       "3      ham  U dun say so early hor... U c already then say...\n",
       "4      ham  Nah I don't think he goes to usf, he lives aro..."
      ]
     },
     "execution_count": 1,
     "metadata": {},
     "output_type": "execute_result"
    }
   ],
   "source": [
    "# Read dataset\n",
    "import pandas as pd\n",
    "\n",
    "data = pd.read_csv('input\\SPAM text message 20170820 - Data.csv')\n",
    "data.head()"
   ]
  },
  {
   "cell_type": "code",
   "execution_count": 2,
   "metadata": {},
   "outputs": [
    {
     "data": {
      "text/html": [
       "<div>\n",
       "<style scoped>\n",
       "    .dataframe tbody tr th:only-of-type {\n",
       "        vertical-align: middle;\n",
       "    }\n",
       "\n",
       "    .dataframe tbody tr th {\n",
       "        vertical-align: top;\n",
       "    }\n",
       "\n",
       "    .dataframe thead th {\n",
       "        text-align: right;\n",
       "    }\n",
       "</style>\n",
       "<table border=\"1\" class=\"dataframe\">\n",
       "  <thead>\n",
       "    <tr style=\"text-align: right;\">\n",
       "      <th></th>\n",
       "      <th>Category</th>\n",
       "      <th>Message</th>\n",
       "      <th>Spam</th>\n",
       "    </tr>\n",
       "  </thead>\n",
       "  <tbody>\n",
       "    <tr>\n",
       "      <th>0</th>\n",
       "      <td>ham</td>\n",
       "      <td>Go until jurong point, crazy.. Available only ...</td>\n",
       "      <td>0</td>\n",
       "    </tr>\n",
       "    <tr>\n",
       "      <th>1</th>\n",
       "      <td>ham</td>\n",
       "      <td>Ok lar... Joking wif u oni...</td>\n",
       "      <td>0</td>\n",
       "    </tr>\n",
       "    <tr>\n",
       "      <th>2</th>\n",
       "      <td>spam</td>\n",
       "      <td>Free entry in 2 a wkly comp to win FA Cup fina...</td>\n",
       "      <td>1</td>\n",
       "    </tr>\n",
       "    <tr>\n",
       "      <th>3</th>\n",
       "      <td>ham</td>\n",
       "      <td>U dun say so early hor... U c already then say...</td>\n",
       "      <td>0</td>\n",
       "    </tr>\n",
       "    <tr>\n",
       "      <th>4</th>\n",
       "      <td>ham</td>\n",
       "      <td>Nah I don't think he goes to usf, he lives aro...</td>\n",
       "      <td>0</td>\n",
       "    </tr>\n",
       "  </tbody>\n",
       "</table>\n",
       "</div>"
      ],
      "text/plain": [
       "  Category                                            Message  Spam\n",
       "0      ham  Go until jurong point, crazy.. Available only ...     0\n",
       "1      ham                      Ok lar... Joking wif u oni...     0\n",
       "2     spam  Free entry in 2 a wkly comp to win FA Cup fina...     1\n",
       "3      ham  U dun say so early hor... U c already then say...     0\n",
       "4      ham  Nah I don't think he goes to usf, he lives aro...     0"
      ]
     },
     "execution_count": 2,
     "metadata": {},
     "output_type": "execute_result"
    }
   ],
   "source": [
    "# Add a column to indicate if the message is spam or not\n",
    "data['Spam'] = data['Category'].apply(lambda x: 1 if 'spam' in x.lower() else 0)\n",
    "\n",
    "data.head()"
   ]
  },
  {
   "cell_type": "code",
   "execution_count": 3,
   "metadata": {},
   "outputs": [
    {
     "name": "stdout",
     "output_type": "stream",
     "text": [
      "['go jurong point crazy available bugis n great world la e buffet cine got amore wat', 'ok lar joking wif u oni', 'free entry wkly comp win fa cup final tkts st may text fa receive entry question std txt rate c apply', 'u dun say early hor u c already say', 'nah think go usf life around though']\n"
     ]
    }
   ],
   "source": [
    "# Preprocess the text\n",
    "import re\n",
    "import nltk\n",
    "\n",
    "corpus = []\n",
    "\n",
    "# clean the text\n",
    "for i in range(0, len(data)):\n",
    "\tFormattedMessage = re.sub(pattern='[^a-zA-Z]', repl=' ', string=data[\"Message\"][i])\n",
    "\tFormattedMessage = FormattedMessage.lower()\n",
    "\tFormattedMessage = FormattedMessage.split()\n",
    "\tFormattedMessage = [nltk.stem.wordnet.WordNetLemmatizer().lemmatize(word)\n",
    "\t\t\t\t\t\tfor word in FormattedMessage\n",
    "\t\t\t\t\t\tif not word in set(nltk.corpus.stopwords.words('english'))]\n",
    "\tFormattedMessage = ' '.join(FormattedMessage)\n",
    "\tcorpus.append(FormattedMessage)\n",
    "\n",
    "# print some of the cleaned texta\n",
    "print(corpus[:5])"
   ]
  },
  {
   "cell_type": "code",
   "execution_count": 4,
   "metadata": {},
   "outputs": [
    {
     "name": "stdout",
     "output_type": "stream",
     "text": [
      "X and y:\n",
      "                                   FormattedMessages\n",
      "0  go jurong point crazy available bugis n great ...\n",
      "1                            ok lar joking wif u oni\n",
      "2  free entry wkly comp win fa cup final tkts st ...\n",
      "3                u dun say early hor u c already say\n",
      "4                nah think go usf life around though\n",
      "\n",
      "0    0\n",
      "1    0\n",
      "2    1\n",
      "3    0\n",
      "4    0\n",
      "Name: Spam, dtype: int64\n",
      "\n"
     ]
    }
   ],
   "source": [
    "# Create two lists to store the text and the spam/ham labels\n",
    "from sklearn.model_selection import train_test_split\n",
    "\n",
    "X = pd.DataFrame(corpus, columns=[\"FormattedMessages\"])\n",
    "y = data[\"Spam\"]\n",
    "\n",
    "print('X and y:')\n",
    "print(X.head(), end='\\n\\n')\n",
    "print(y.head(), end='\\n\\n')"
   ]
  },
  {
   "cell_type": "code",
   "execution_count": 5,
   "metadata": {},
   "outputs": [
    {
     "name": "stdout",
     "output_type": "stream",
     "text": [
      "X_train and X_test:\n",
      "                                      FormattedMessages\n",
      "1114                        good movie ok leave hourish\n",
      "3589  free give otherwise nalla adi entey nattil kittum\n",
      "3095           emigrated something ok maybe bit hopeful\n",
      "1012                          got home babe still awake\n",
      "3320                                  kay since already\n",
      "\n",
      "                                      FormattedMessages\n",
      "4456  storming msg wen u lift phne u say hello u knw...\n",
      "690   forwarded please call immediately urgent messa...\n",
      "944   also sorta blown couple time recently id rathe...\n",
      "3768                          sir goodmorning free call\n",
      "1189      come alive better correct good looking figure\n",
      "\n",
      "y_train and y_test:\n",
      "1114    0\n",
      "3589    0\n",
      "3095    0\n",
      "1012    0\n",
      "3320    0\n",
      "Name: Spam, dtype: int64\n",
      "\n",
      "4456    0\n",
      "690     1\n",
      "944     0\n",
      "3768    0\n",
      "1189    0\n",
      "Name: Spam, dtype: int64\n",
      "\n"
     ]
    }
   ],
   "source": [
    "# Split the data into training and testing sets\n",
    "X_train, X_test, y_train, y_test = train_test_split(X, y, test_size=0.2, random_state=0)\n",
    "\n",
    "print('X_train and X_test:')\n",
    "print(X_train.head(), end='\\n\\n')\n",
    "print(X_test.head(), end='\\n\\n')\n",
    "\n",
    "print('y_train and y_test:')\n",
    "print(y_train.head(), end='\\n\\n')\n",
    "print(y_test.head(), end='\\n\\n')"
   ]
  }
 ],
 "metadata": {
  "kernelspec": {
   "display_name": "Python 3.10.6 ('venv': venv)",
   "language": "python",
   "name": "python3"
  },
  "language_info": {
   "codemirror_mode": {
    "name": "ipython",
    "version": 3
   },
   "file_extension": ".py",
   "mimetype": "text/x-python",
   "name": "python",
   "nbconvert_exporter": "python",
   "pygments_lexer": "ipython3",
   "version": "3.10.6"
  },
  "orig_nbformat": 4,
  "vscode": {
   "interpreter": {
    "hash": "c0b48fdae41b4b5dedfa176dddfc125f1353e59f01656ea8d18756822655a329"
   }
  }
 },
 "nbformat": 4,
 "nbformat_minor": 2
}
