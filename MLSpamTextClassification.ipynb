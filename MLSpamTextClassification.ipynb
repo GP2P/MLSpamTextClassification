{
 "cells": [
  {
   "cell_type": "code",
   "execution_count": 1,
   "metadata": {},
   "outputs": [
    {
     "data": {
      "text/html": [
       "<div>\n",
       "<style scoped>\n",
       "    .dataframe tbody tr th:only-of-type {\n",
       "        vertical-align: middle;\n",
       "    }\n",
       "\n",
       "    .dataframe tbody tr th {\n",
       "        vertical-align: top;\n",
       "    }\n",
       "\n",
       "    .dataframe thead th {\n",
       "        text-align: right;\n",
       "    }\n",
       "</style>\n",
       "<table border=\"1\" class=\"dataframe\">\n",
       "  <thead>\n",
       "    <tr style=\"text-align: right;\">\n",
       "      <th></th>\n",
       "      <th>Category</th>\n",
       "      <th>Message</th>\n",
       "    </tr>\n",
       "  </thead>\n",
       "  <tbody>\n",
       "    <tr>\n",
       "      <th>0</th>\n",
       "      <td>ham</td>\n",
       "      <td>Go until jurong point, crazy.. Available only ...</td>\n",
       "    </tr>\n",
       "    <tr>\n",
       "      <th>1</th>\n",
       "      <td>ham</td>\n",
       "      <td>Ok lar... Joking wif u oni...</td>\n",
       "    </tr>\n",
       "    <tr>\n",
       "      <th>2</th>\n",
       "      <td>spam</td>\n",
       "      <td>Free entry in 2 a wkly comp to win FA Cup fina...</td>\n",
       "    </tr>\n",
       "    <tr>\n",
       "      <th>3</th>\n",
       "      <td>ham</td>\n",
       "      <td>U dun say so early hor... U c already then say...</td>\n",
       "    </tr>\n",
       "    <tr>\n",
       "      <th>4</th>\n",
       "      <td>ham</td>\n",
       "      <td>Nah I don't think he goes to usf, he lives aro...</td>\n",
       "    </tr>\n",
       "  </tbody>\n",
       "</table>\n",
       "</div>"
      ],
      "text/plain": [
       "  Category                                            Message\n",
       "0      ham  Go until jurong point, crazy.. Available only ...\n",
       "1      ham                      Ok lar... Joking wif u oni...\n",
       "2     spam  Free entry in 2 a wkly comp to win FA Cup fina...\n",
       "3      ham  U dun say so early hor... U c already then say...\n",
       "4      ham  Nah I don't think he goes to usf, he lives aro..."
      ]
     },
     "execution_count": 1,
     "metadata": {},
     "output_type": "execute_result"
    }
   ],
   "source": [
    "# Read dataset\n",
    "import pandas as pd\n",
    "\n",
    "data = pd.read_csv('input\\SPAM text message 20170820 - Data.csv')\n",
    "data.head()"
   ]
  },
  {
   "cell_type": "code",
   "execution_count": 2,
   "metadata": {},
   "outputs": [
    {
     "data": {
      "text/html": [
       "<div>\n",
       "<style scoped>\n",
       "    .dataframe tbody tr th:only-of-type {\n",
       "        vertical-align: middle;\n",
       "    }\n",
       "\n",
       "    .dataframe tbody tr th {\n",
       "        vertical-align: top;\n",
       "    }\n",
       "\n",
       "    .dataframe thead th {\n",
       "        text-align: right;\n",
       "    }\n",
       "</style>\n",
       "<table border=\"1\" class=\"dataframe\">\n",
       "  <thead>\n",
       "    <tr style=\"text-align: right;\">\n",
       "      <th></th>\n",
       "      <th>Category</th>\n",
       "      <th>Message</th>\n",
       "      <th>Spam</th>\n",
       "    </tr>\n",
       "  </thead>\n",
       "  <tbody>\n",
       "    <tr>\n",
       "      <th>0</th>\n",
       "      <td>ham</td>\n",
       "      <td>Go until jurong point, crazy.. Available only ...</td>\n",
       "      <td>0</td>\n",
       "    </tr>\n",
       "    <tr>\n",
       "      <th>1</th>\n",
       "      <td>ham</td>\n",
       "      <td>Ok lar... Joking wif u oni...</td>\n",
       "      <td>0</td>\n",
       "    </tr>\n",
       "    <tr>\n",
       "      <th>2</th>\n",
       "      <td>spam</td>\n",
       "      <td>Free entry in 2 a wkly comp to win FA Cup fina...</td>\n",
       "      <td>1</td>\n",
       "    </tr>\n",
       "    <tr>\n",
       "      <th>3</th>\n",
       "      <td>ham</td>\n",
       "      <td>U dun say so early hor... U c already then say...</td>\n",
       "      <td>0</td>\n",
       "    </tr>\n",
       "    <tr>\n",
       "      <th>4</th>\n",
       "      <td>ham</td>\n",
       "      <td>Nah I don't think he goes to usf, he lives aro...</td>\n",
       "      <td>0</td>\n",
       "    </tr>\n",
       "  </tbody>\n",
       "</table>\n",
       "</div>"
      ],
      "text/plain": [
       "  Category                                            Message  Spam\n",
       "0      ham  Go until jurong point, crazy.. Available only ...     0\n",
       "1      ham                      Ok lar... Joking wif u oni...     0\n",
       "2     spam  Free entry in 2 a wkly comp to win FA Cup fina...     1\n",
       "3      ham  U dun say so early hor... U c already then say...     0\n",
       "4      ham  Nah I don't think he goes to usf, he lives aro...     0"
      ]
     },
     "execution_count": 2,
     "metadata": {},
     "output_type": "execute_result"
    }
   ],
   "source": [
    "# Add a column to indicate if the message is spam or not\n",
    "data['Spam'] = data['Category'].apply(lambda x: 1 if 'spam' in x.lower() else 0)\n",
    "\n",
    "data.head()"
   ]
  },
  {
   "cell_type": "code",
   "execution_count": 3,
   "metadata": {},
   "outputs": [
    {
     "name": "stdout",
     "output_type": "stream",
     "text": [
      "['go jurong point crazy available bugis n great world la e buffet cine got amore wat', 'ok lar joking wif u oni', 'free entry wkly comp win fa cup final tkts st may text fa receive entry question std txt rate c apply', 'u dun say early hor u c already say', 'nah think go usf life around though']\n"
     ]
    }
   ],
   "source": [
    "# Preprocess the text\n",
    "import re\n",
    "import nltk\n",
    "\n",
    "corpus = []\n",
    "\n",
    "# clean the text\n",
    "for i in range(0, len(data)):\n",
    "\tFormattedMessage = re.sub(pattern='[^a-zA-Z]', repl=' ', string=data[\"Message\"][i])\n",
    "\tFormattedMessage = FormattedMessage.lower()\n",
    "\tFormattedMessage = FormattedMessage.split()\n",
    "\tFormattedMessage = [nltk.stem.wordnet.WordNetLemmatizer().lemmatize(word)\n",
    "\t\t\t\t\t\tfor word in FormattedMessage\n",
    "\t\t\t\t\t\tif not word in set(nltk.corpus.stopwords.words('english'))]\n",
    "\tFormattedMessage = ' '.join(FormattedMessage)\n",
    "\tcorpus.append(FormattedMessage)\n",
    "\n",
    "# print some of the cleaned texta\n",
    "print(corpus[:5])"
   ]
  },
  {
   "cell_type": "code",
   "execution_count": 4,
   "metadata": {},
   "outputs": [
    {
     "name": "stdout",
     "output_type": "stream",
     "text": [
      "X and y:\n",
      "                                   FormattedMessages\n",
      "0  go jurong point crazy available bugis n great ...\n",
      "1                            ok lar joking wif u oni\n",
      "2  free entry wkly comp win fa cup final tkts st ...\n",
      "3                u dun say early hor u c already say\n",
      "4                nah think go usf life around though\n",
      "\n",
      "0    0\n",
      "1    0\n",
      "2    1\n",
      "3    0\n",
      "4    0\n",
      "Name: Spam, dtype: int64\n",
      "\n"
     ]
    }
   ],
   "source": [
    "# Create two lists to store the text and the spam/ham labels\n",
    "X = pd.DataFrame(corpus, columns=[\"FormattedMessages\"])\n",
    "y = data[\"Spam\"]\n",
    "\n",
    "print('X and y:')\n",
    "print(X.head(), end='\\n\\n')\n",
    "print(y.head(), end='\\n\\n')"
   ]
  },
  {
   "cell_type": "code",
   "execution_count": 5,
   "metadata": {},
   "outputs": [
    {
     "name": "stdout",
     "output_type": "stream",
     "text": [
      "X_training and X_tests:\n",
      "                                      FormattedMessages\n",
      "1114                        good movie ok leave hourish\n",
      "3589  free give otherwise nalla adi entey nattil kittum\n",
      "3095           emigrated something ok maybe bit hopeful\n",
      "1012                          got home babe still awake\n",
      "3320                                  kay since already\n",
      "\n",
      "                                      FormattedMessages\n",
      "4456  storming msg wen u lift phne u say hello u knw...\n",
      "690   forwarded please call immediately urgent messa...\n",
      "944   also sorta blown couple time recently id rathe...\n",
      "3768                          sir goodmorning free call\n",
      "1189      come alive better correct good looking figure\n",
      "\n",
      "y_training and y_tests:\n",
      "1114    0\n",
      "3589    0\n",
      "3095    0\n",
      "1012    0\n",
      "3320    0\n",
      "Name: Spam, dtype: int64\n",
      "\n",
      "4456    0\n",
      "690     1\n",
      "944     0\n",
      "3768    0\n",
      "1189    0\n",
      "Name: Spam, dtype: int64\n",
      "\n"
     ]
    }
   ],
   "source": [
    "# Split the data into training and testing sets\n",
    "from sklearn.model_selection import train_test_split\n",
    "X_training, X_tests, y_training, y_tests = train_test_split(X, y, test_size=0.2, random_state=0)\n",
    "\n",
    "print('X_training and X_tests:')\n",
    "print(X_training.head(), end='\\n\\n')\n",
    "print(X_tests.head(), end='\\n\\n')\n",
    "\n",
    "print('y_training and y_tests:')\n",
    "print(y_training.head(), end='\\n\\n')\n",
    "print(y_tests.head(), end='\\n\\n')"
   ]
  },
  {
   "cell_type": "code",
   "execution_count": 6,
   "metadata": {},
   "outputs": [
    {
     "name": "stdout",
     "output_type": "stream",
     "text": [
      "(4457, 3000)\n",
      "(1115, 3000)\n"
     ]
    }
   ],
   "source": [
    "# Transform data into vectors\n",
    "from sklearn.feature_extraction.text import CountVectorizer\n",
    "cv=CountVectorizer(max_features=3000)\n",
    "X_training_vectors = cv.fit_transform(X_training['FormattedMessages']).toarray()\n",
    "X_tests_vectors = cv.transform(X_tests['FormattedMessages']).toarray()\n",
    "\n",
    "print(X_training_vectors.shape)\n",
    "print(X_tests_vectors.shape)"
   ]
  },
  {
   "cell_type": "code",
   "execution_count": 7,
   "metadata": {},
   "outputs": [],
   "source": [
    "# Confusion matrix tools\n",
    "import seaborn as sns\n",
    "from sklearn.metrics import confusion_matrix"
   ]
  },
  {
   "cell_type": "code",
   "execution_count": 8,
   "metadata": {},
   "outputs": [
    {
     "data": {
      "text/plain": [
       "<AxesSubplot:>"
      ]
     },
     "execution_count": 8,
     "metadata": {},
     "output_type": "execute_result"
    },
    {
     "data": {
      "image/png": "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",
      "text/plain": [
       "<Figure size 432x288 with 2 Axes>"
      ]
     },
     "metadata": {
      "needs_background": "light"
     },
     "output_type": "display_data"
    }
   ],
   "source": [
    "# Gaussian Naive Bayes Classifier\n",
    "from sklearn.naive_bayes import MultinomialNB\n",
    "y_prediction_NaiveBayes = MultinomialNB().fit(X_training_vectors, y_training).predict(X_tests_vectors)\n",
    "\n",
    "# confusion matrix\n",
    "sns.heatmap(confusion_matrix(y_tests, y_prediction_NaiveBayes), cmap='PuBu', annot=True, fmt='d')"
    "\n",
    "print(train_X.shape)\n",
    "print(test_X.shape)"
   ]
  }
 ],
 "metadata": {
  "kernelspec": {
   "display_name": "Python 3.10.6 ('venv': venv)",
   "language": "python",
   "name": "python3"
  },
  "language_info": {
   "codemirror_mode": {
    "name": "ipython",
    "version": 3
   },
   "file_extension": ".py",
   "mimetype": "text/x-python",
   "name": "python",
   "nbconvert_exporter": "python",
   "pygments_lexer": "ipython3",
   "version": "3.10.6"
  },
  "orig_nbformat": 4,
  "vscode": {
   "interpreter": {
    "hash": "c0b48fdae41b4b5dedfa176dddfc125f1353e59f01656ea8d18756822655a329"
   }
  }
 },
 "nbformat": 4,
 "nbformat_minor": 2
}
