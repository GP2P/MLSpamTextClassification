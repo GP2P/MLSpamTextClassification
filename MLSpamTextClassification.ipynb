{
 "cells": [
  {
   "cell_type": "code",
   "execution_count": 1,
   "metadata": {},
   "outputs": [
    {
     "data": {
      "text/html": [
       "<div>\n",
       "<style scoped>\n",
       "    .dataframe tbody tr th:only-of-type {\n",
       "        vertical-align: middle;\n",
       "    }\n",
       "\n",
       "    .dataframe tbody tr th {\n",
       "        vertical-align: top;\n",
       "    }\n",
       "\n",
       "    .dataframe thead th {\n",
       "        text-align: right;\n",
       "    }\n",
       "</style>\n",
       "<table border=\"1\" class=\"dataframe\">\n",
       "  <thead>\n",
       "    <tr style=\"text-align: right;\">\n",
       "      <th></th>\n",
       "      <th>Category</th>\n",
       "      <th>Message</th>\n",
       "    </tr>\n",
       "  </thead>\n",
       "  <tbody>\n",
       "    <tr>\n",
       "      <th>0</th>\n",
       "      <td>ham</td>\n",
       "      <td>Go until jurong point, crazy.. Available only ...</td>\n",
       "    </tr>\n",
       "    <tr>\n",
       "      <th>1</th>\n",
       "      <td>ham</td>\n",
       "      <td>Ok lar... Joking wif u oni...</td>\n",
       "    </tr>\n",
       "    <tr>\n",
       "      <th>2</th>\n",
       "      <td>spam</td>\n",
       "      <td>Free entry in 2 a wkly comp to win FA Cup fina...</td>\n",
       "    </tr>\n",
       "    <tr>\n",
       "      <th>3</th>\n",
       "      <td>ham</td>\n",
       "      <td>U dun say so early hor... U c already then say...</td>\n",
       "    </tr>\n",
       "    <tr>\n",
       "      <th>4</th>\n",
       "      <td>ham</td>\n",
       "      <td>Nah I don't think he goes to usf, he lives aro...</td>\n",
       "    </tr>\n",
       "  </tbody>\n",
       "</table>\n",
       "</div>"
      ],
      "text/plain": [
       "  Category                                            Message\n",
       "0      ham  Go until jurong point, crazy.. Available only ...\n",
       "1      ham                      Ok lar... Joking wif u oni...\n",
       "2     spam  Free entry in 2 a wkly comp to win FA Cup fina...\n",
       "3      ham  U dun say so early hor... U c already then say...\n",
       "4      ham  Nah I don't think he goes to usf, he lives aro..."
      ]
     },
     "execution_count": 1,
     "metadata": {},
     "output_type": "execute_result"
    }
   ],
   "source": [
    "# Read dataset\n",
    "import pandas as pd\n",
    "\n",
    "data = pd.read_csv('input\\SPAM text message 20170820 - Data.csv')\n",
    "data.head()"
   ]
  },
  {
   "cell_type": "code",
   "execution_count": 2,
   "metadata": {},
   "outputs": [
    {
     "data": {
      "text/html": [
       "<div>\n",
       "<style scoped>\n",
       "    .dataframe tbody tr th:only-of-type {\n",
       "        vertical-align: middle;\n",
       "    }\n",
       "\n",
       "    .dataframe tbody tr th {\n",
       "        vertical-align: top;\n",
       "    }\n",
       "\n",
       "    .dataframe thead th {\n",
       "        text-align: right;\n",
       "    }\n",
       "</style>\n",
       "<table border=\"1\" class=\"dataframe\">\n",
       "  <thead>\n",
       "    <tr style=\"text-align: right;\">\n",
       "      <th></th>\n",
       "      <th>Category</th>\n",
       "      <th>Message</th>\n",
       "      <th>Spam</th>\n",
       "    </tr>\n",
       "  </thead>\n",
       "  <tbody>\n",
       "    <tr>\n",
       "      <th>0</th>\n",
       "      <td>ham</td>\n",
       "      <td>Go until jurong point, crazy.. Available only ...</td>\n",
       "      <td>0</td>\n",
       "    </tr>\n",
       "    <tr>\n",
       "      <th>1</th>\n",
       "      <td>ham</td>\n",
       "      <td>Ok lar... Joking wif u oni...</td>\n",
       "      <td>0</td>\n",
       "    </tr>\n",
       "    <tr>\n",
       "      <th>2</th>\n",
       "      <td>spam</td>\n",
       "      <td>Free entry in 2 a wkly comp to win FA Cup fina...</td>\n",
       "      <td>1</td>\n",
       "    </tr>\n",
       "    <tr>\n",
       "      <th>3</th>\n",
       "      <td>ham</td>\n",
       "      <td>U dun say so early hor... U c already then say...</td>\n",
       "      <td>0</td>\n",
       "    </tr>\n",
       "    <tr>\n",
       "      <th>4</th>\n",
       "      <td>ham</td>\n",
       "      <td>Nah I don't think he goes to usf, he lives aro...</td>\n",
       "      <td>0</td>\n",
       "    </tr>\n",
       "  </tbody>\n",
       "</table>\n",
       "</div>"
      ],
      "text/plain": [
       "  Category                                            Message  Spam\n",
       "0      ham  Go until jurong point, crazy.. Available only ...     0\n",
       "1      ham                      Ok lar... Joking wif u oni...     0\n",
       "2     spam  Free entry in 2 a wkly comp to win FA Cup fina...     1\n",
       "3      ham  U dun say so early hor... U c already then say...     0\n",
       "4      ham  Nah I don't think he goes to usf, he lives aro...     0"
      ]
     },
     "execution_count": 2,
     "metadata": {},
     "output_type": "execute_result"
    }
   ],
   "source": [
    "# Add a column to indicate if the message is spam or not\n",
    "data['Spam'] = data['Category'].apply(lambda x: 1 if 'spam' in x.lower() else 0)\n",
    "\n",
    "data.head()"
   ]
  },
  {
   "cell_type": "code",
   "execution_count": 3,
   "metadata": {},
   "outputs": [
    {
     "name": "stdout",
     "output_type": "stream",
     "text": [
      "['go jurong point crazy available bugis n great world la e buffet cine got amore wat', 'ok lar joking wif u oni', 'free entry wkly comp win fa cup final tkts st may text fa receive entry question std txt rate c apply', 'u dun say early hor u c already say', 'nah think go usf life around though']\n"
     ]
    }
   ],
   "source": [
    "# Preprocess the text\n",
    "import re\n",
    "import nltk\n",
    "\n",
    "corpus = []\n",
    "\n",
    "# clean the text\n",
    "for i in range(0, len(data)):\n",
    "\tFormattedMessage = re.sub(pattern='[^a-zA-Z]', repl=' ', string=data[\"Message\"][i])\n",
    "\tFormattedMessage = FormattedMessage.lower()\n",
    "\tFormattedMessage = FormattedMessage.split()\n",
    "\tFormattedMessage = [nltk.stem.wordnet.WordNetLemmatizer().lemmatize(word)\n",
    "\t\t\t\t\t\tfor word in FormattedMessage\n",
    "\t\t\t\t\t\tif not word in set(nltk.corpus.stopwords.words('english'))]\n",
    "\tFormattedMessage = ' '.join(FormattedMessage)\n",
    "\tcorpus.append(FormattedMessage)\n",
    "\n",
    "# print some of the cleaned texta\n",
    "print(corpus[:5])"
   ]
  },
  {
   "cell_type": "code",
   "execution_count": 4,
   "metadata": {},
   "outputs": [
    {
     "name": "stdout",
     "output_type": "stream",
     "text": [
      "X and y:\n",
      "                                   FormattedMessages\n",
      "0  go jurong point crazy available bugis n great ...\n",
      "1                            ok lar joking wif u oni\n",
      "2  free entry wkly comp win fa cup final tkts st ...\n",
      "3                u dun say early hor u c already say\n",
      "4                nah think go usf life around though\n",
      "\n",
      "0    0\n",
      "1    0\n",
      "2    1\n",
      "3    0\n",
      "4    0\n",
      "Name: Spam, dtype: int64\n",
      "\n"
     ]
    }
   ],
   "source": [
    "# Create two lists to store the text and the spam/ham labels\n",
    "X = pd.DataFrame(corpus, columns=[\"FormattedMessages\"])\n",
    "y = data[\"Spam\"]\n",
    "\n",
    "print('X and y:')\n",
    "print(X.head(), end='\\n\\n')\n",
    "print(y.head(), end='\\n\\n')"
   ]
  },
  {
   "cell_type": "code",
   "execution_count": 5,
   "metadata": {},
   "outputs": [
    {
     "name": "stdout",
     "output_type": "stream",
     "text": [
      "X_training and X_tests:\n",
      "                                      FormattedMessages\n",
      "1114                        good movie ok leave hourish\n",
      "3589  free give otherwise nalla adi entey nattil kittum\n",
      "3095           emigrated something ok maybe bit hopeful\n",
      "1012                          got home babe still awake\n",
      "3320                                  kay since already\n",
      "\n",
      "                                      FormattedMessages\n",
      "4456  storming msg wen u lift phne u say hello u knw...\n",
      "690   forwarded please call immediately urgent messa...\n",
      "944   also sorta blown couple time recently id rathe...\n",
      "3768                          sir goodmorning free call\n",
      "1189      come alive better correct good looking figure\n",
      "\n",
      "y_training and y_tests:\n",
      "1114    0\n",
      "3589    0\n",
      "3095    0\n",
      "1012    0\n",
      "3320    0\n",
      "Name: Spam, dtype: int64\n",
      "\n",
      "4456    0\n",
      "690     1\n",
      "944     0\n",
      "3768    0\n",
      "1189    0\n",
      "Name: Spam, dtype: int64\n",
      "\n"
     ]
    }
   ],
   "source": [
    "# Split the data into training and testing sets\n",
    "from sklearn.model_selection import train_test_split\n",
    "X_training, X_tests, y_training, y_tests = train_test_split(X, y, test_size=0.2, random_state=0)\n",
    "\n",
    "print('X_training and X_tests:')\n",
    "print(X_training.head(), end='\\n\\n')\n",
    "print(X_tests.head(), end='\\n\\n')\n",
    "\n",
    "print('y_training and y_tests:')\n",
    "print(y_training.head(), end='\\n\\n')\n",
    "print(y_tests.head(), end='\\n\\n')"
   ]
  },
  {
   "cell_type": "code",
   "execution_count": 6,
   "metadata": {},
   "outputs": [
    {
     "name": "stdout",
     "output_type": "stream",
     "text": [
      "(4457, 3000)\n",
      "(1115, 3000)\n"
     ]
    }
   ],
   "source": [
    "# Transform data into vectors\n",
    "from sklearn.feature_extraction.text import CountVectorizer\n",
    "cv=CountVectorizer(max_features=3000)\n",
    "X_training_vectors = cv.fit_transform(X_training['FormattedMessages']).toarray()\n",
    "X_tests_vectors = cv.transform(X_tests['FormattedMessages']).toarray()\n",
    "\n",
    "print(X_training_vectors.shape)\n",
    "print(X_tests_vectors.shape)"
   ]
  },
  {
   "cell_type": "code",
   "execution_count": 7,
   "metadata": {},
   "outputs": [],
   "source": [
    "# Confusion matrix tools\n",
    "import seaborn as sns\n",
    "from sklearn.metrics import confusion_matrix"
   ]
  },
  {
   "cell_type": "code",
   "execution_count": 8,
   "metadata": {},
   "outputs": [
    {
     "data": {
      "text/plain": [
       "<AxesSubplot:>"
      ]
     },
     "execution_count": 8,
     "metadata": {},
     "output_type": "execute_result"
    },
    {
     "data": {
      "image/png": "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",
      "text/plain": [
       "<Figure size 432x288 with 2 Axes>"
      ]
     },
     "metadata": {
      "needs_background": "light"
     },
     "output_type": "display_data"
    }
   ],
   "source": [
    "# Gaussian Naive Bayes Classifier\n",
    "from sklearn.naive_bayes import MultinomialNB\n",
    "y_prediction_NaiveBayes = MultinomialNB().fit(X_training_vectors, y_training).predict(X_tests_vectors)\n",
    "\n",
    "# confusion matrix\n",
    "sns.heatmap(confusion_matrix(y_tests, y_prediction_NaiveBayes), cmap='PuBu', annot=True, fmt='d')"
   ]
  },
  {
   "cell_type": "code",
   "execution_count": 9,
   "metadata": {},
   "outputs": [
    {
     "data": {
      "text/plain": [
       "<AxesSubplot:>"
      ]
     },
     "execution_count": 9,
     "metadata": {},
     "output_type": "execute_result"
    },
    {
     "data": {
      "image/png": "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",
      "text/plain": [
       "<Figure size 432x288 with 2 Axes>"
      ]
     },
     "metadata": {
      "needs_background": "light"
     },
     "output_type": "display_data"
    }
   ],
   "source": [
    "# Random Forest Classifier\n",
    "from sklearn.ensemble import RandomForestClassifier\n",
    "y_prediction_RandomForest=RandomForestClassifier(random_state=0).fit(X_training_vectors,y_training).predict(X_tests_vectors)\n",
    "\n",
    "# confusion matrix\n",
    "sns.heatmap(confusion_matrix(y_tests,y_prediction_RandomForest),cmap='PuBu',annot=True,fmt='d')"
    "\n",
    "print(train_X.shape)\n",
    "print(test_X.shape)"
   ]
  }
 ],
 "metadata": {
  "kernelspec": {
   "display_name": "Python 3.10.6 ('venv': venv)",
   "language": "python",
   "name": "python3"
  },
  "language_info": {
   "codemirror_mode": {
    "name": "ipython",
    "version": 3
   },
   "file_extension": ".py",
   "mimetype": "text/x-python",
   "name": "python",
   "nbconvert_exporter": "python",
   "pygments_lexer": "ipython3",
   "version": "3.10.6"
  },
  "orig_nbformat": 4,
  "vscode": {
   "interpreter": {
    "hash": "c0b48fdae41b4b5dedfa176dddfc125f1353e59f01656ea8d18756822655a329"
   }
  }
 },
 "nbformat": 4,
 "nbformat_minor": 2
}
